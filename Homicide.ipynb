{
  "nbformat": 4,
  "nbformat_minor": 0,
  "metadata": {
    "colab": {
      "name": "Homicide.ipynb",
      "provenance": [],
      "collapsed_sections": [
        "hmgTHbu1I6QF"
      ],
      "toc_visible": true
    },
    "kernelspec": {
      "name": "python3",
      "display_name": "Python 3"
    }
  },
  "cells": [
    {
      "cell_type": "markdown",
      "metadata": {
        "id": "Kpz1w9XwIEWz"
      },
      "source": [
        "## Module Imports\n"
      ]
    },
    {
      "cell_type": "code",
      "metadata": {
        "colab": {
          "base_uri": "https://localhost:8080/"
        },
        "id": "GfyNHijDTq3S",
        "outputId": "00a22d54-1c0b-4631-a5a9-e4a7229a239d"
      },
      "source": [
        "import numpy as np\n",
        "import pandas as pd \n",
        "import seaborn as sns\n",
        "import matplotlib.pyplot as plt\n",
        "!wget \"https://github.com/ViharDevalla/TensorProject/raw/main/Datasets/archive.zip\"\n",
        "!unzip archive.zip\n",
        "dataset = pd.read_csv('database.csv')"
      ],
      "execution_count": null,
      "outputs": [
        {
          "output_type": "stream",
          "text": [
            "--2021-03-07 11:57:19--  https://github.com/ViharDevalla/TensorProject/raw/main/Datasets/archive.zip\n",
            "Resolving github.com (github.com)... 140.82.112.3\n",
            "Connecting to github.com (github.com)|140.82.112.3|:443... connected.\n",
            "HTTP request sent, awaiting response... 302 Found\n",
            "Location: https://raw.githubusercontent.com/ViharDevalla/TensorProject/main/Datasets/archive.zip [following]\n",
            "--2021-03-07 11:57:19--  https://raw.githubusercontent.com/ViharDevalla/TensorProject/main/Datasets/archive.zip\n",
            "Resolving raw.githubusercontent.com (raw.githubusercontent.com)... 185.199.108.133, 185.199.109.133, 185.199.110.133, ...\n",
            "Connecting to raw.githubusercontent.com (raw.githubusercontent.com)|185.199.108.133|:443... connected.\n",
            "HTTP request sent, awaiting response... 200 OK\n",
            "Length: 10306987 (9.8M) [application/zip]\n",
            "Saving to: ‘archive.zip’\n",
            "\n",
            "archive.zip         100%[===================>]   9.83M  53.9MB/s    in 0.2s    \n",
            "\n",
            "2021-03-07 11:57:20 (53.9 MB/s) - ‘archive.zip’ saved [10306987/10306987]\n",
            "\n",
            "Archive:  archive.zip\n",
            "  inflating: database.csv            \n"
          ],
          "name": "stdout"
        },
        {
          "output_type": "stream",
          "text": [
            "/usr/local/lib/python3.7/dist-packages/IPython/core/interactiveshell.py:2718: DtypeWarning: Columns (16) have mixed types.Specify dtype option on import or set low_memory=False.\n",
            "  interactivity=interactivity, compiler=compiler, result=result)\n"
          ],
          "name": "stderr"
        }
      ]
    },
    {
      "cell_type": "markdown",
      "metadata": {
        "id": "vXQEQux0I_sT"
      },
      "source": [
        "## EDA\n"
      ]
    },
    {
      "cell_type": "code",
      "metadata": {
        "id": "0eAwJoCepE8j",
        "colab": {
          "base_uri": "https://localhost:8080/"
        },
        "outputId": "792a1f3a-f43c-45e4-f691-48e74deffa6d"
      },
      "source": [
        "dataset.shape"
      ],
      "execution_count": null,
      "outputs": [
        {
          "output_type": "execute_result",
          "data": {
            "text/plain": [
              "(638454, 10)"
            ]
          },
          "metadata": {
            "tags": []
          },
          "execution_count": 172
        }
      ]
    },
    {
      "cell_type": "code",
      "metadata": {
        "colab": {
          "base_uri": "https://localhost:8080/",
          "height": 284
        },
        "id": "WyIzQlI5a3kN",
        "outputId": "26b05fe5-b69d-4c04-b153-51e277a20464"
      },
      "source": [
        "dataset.describe()\n"
      ],
      "execution_count": null,
      "outputs": [
        {
          "output_type": "execute_result",
          "data": {
            "text/html": [
              "<div>\n",
              "<style scoped>\n",
              "    .dataframe tbody tr th:only-of-type {\n",
              "        vertical-align: middle;\n",
              "    }\n",
              "\n",
              "    .dataframe tbody tr th {\n",
              "        vertical-align: top;\n",
              "    }\n",
              "\n",
              "    .dataframe thead th {\n",
              "        text-align: right;\n",
              "    }\n",
              "</style>\n",
              "<table border=\"1\" class=\"dataframe\">\n",
              "  <thead>\n",
              "    <tr style=\"text-align: right;\">\n",
              "      <th></th>\n",
              "      <th>Record ID</th>\n",
              "      <th>Year</th>\n",
              "      <th>Incident</th>\n",
              "      <th>Victim Age</th>\n",
              "      <th>Victim Count</th>\n",
              "      <th>Perpetrator Count</th>\n",
              "    </tr>\n",
              "  </thead>\n",
              "  <tbody>\n",
              "    <tr>\n",
              "      <th>count</th>\n",
              "      <td>638454.00000</td>\n",
              "      <td>638454.000000</td>\n",
              "      <td>638454.000000</td>\n",
              "      <td>638454.000000</td>\n",
              "      <td>638454.000000</td>\n",
              "      <td>638454.000000</td>\n",
              "    </tr>\n",
              "    <tr>\n",
              "      <th>mean</th>\n",
              "      <td>319227.50000</td>\n",
              "      <td>1995.801102</td>\n",
              "      <td>22.967924</td>\n",
              "      <td>35.033512</td>\n",
              "      <td>0.123334</td>\n",
              "      <td>0.185224</td>\n",
              "    </tr>\n",
              "    <tr>\n",
              "      <th>std</th>\n",
              "      <td>184305.93872</td>\n",
              "      <td>9.927693</td>\n",
              "      <td>92.149821</td>\n",
              "      <td>41.628306</td>\n",
              "      <td>0.537733</td>\n",
              "      <td>0.585496</td>\n",
              "    </tr>\n",
              "    <tr>\n",
              "      <th>min</th>\n",
              "      <td>1.00000</td>\n",
              "      <td>1980.000000</td>\n",
              "      <td>0.000000</td>\n",
              "      <td>0.000000</td>\n",
              "      <td>0.000000</td>\n",
              "      <td>0.000000</td>\n",
              "    </tr>\n",
              "    <tr>\n",
              "      <th>25%</th>\n",
              "      <td>159614.25000</td>\n",
              "      <td>1987.000000</td>\n",
              "      <td>1.000000</td>\n",
              "      <td>22.000000</td>\n",
              "      <td>0.000000</td>\n",
              "      <td>0.000000</td>\n",
              "    </tr>\n",
              "    <tr>\n",
              "      <th>50%</th>\n",
              "      <td>319227.50000</td>\n",
              "      <td>1995.000000</td>\n",
              "      <td>2.000000</td>\n",
              "      <td>30.000000</td>\n",
              "      <td>0.000000</td>\n",
              "      <td>0.000000</td>\n",
              "    </tr>\n",
              "    <tr>\n",
              "      <th>75%</th>\n",
              "      <td>478840.75000</td>\n",
              "      <td>2004.000000</td>\n",
              "      <td>10.000000</td>\n",
              "      <td>42.000000</td>\n",
              "      <td>0.000000</td>\n",
              "      <td>0.000000</td>\n",
              "    </tr>\n",
              "    <tr>\n",
              "      <th>max</th>\n",
              "      <td>638454.00000</td>\n",
              "      <td>2014.000000</td>\n",
              "      <td>999.000000</td>\n",
              "      <td>998.000000</td>\n",
              "      <td>10.000000</td>\n",
              "      <td>10.000000</td>\n",
              "    </tr>\n",
              "  </tbody>\n",
              "</table>\n",
              "</div>"
            ],
            "text/plain": [
              "          Record ID           Year  ...   Victim Count  Perpetrator Count\n",
              "count  638454.00000  638454.000000  ...  638454.000000      638454.000000\n",
              "mean   319227.50000    1995.801102  ...       0.123334           0.185224\n",
              "std    184305.93872       9.927693  ...       0.537733           0.585496\n",
              "min         1.00000    1980.000000  ...       0.000000           0.000000\n",
              "25%    159614.25000    1987.000000  ...       0.000000           0.000000\n",
              "50%    319227.50000    1995.000000  ...       0.000000           0.000000\n",
              "75%    478840.75000    2004.000000  ...       0.000000           0.000000\n",
              "max    638454.00000    2014.000000  ...      10.000000          10.000000\n",
              "\n",
              "[8 rows x 6 columns]"
            ]
          },
          "metadata": {
            "tags": []
          },
          "execution_count": 2
        }
      ]
    },
    {
      "cell_type": "code",
      "metadata": {
        "colab": {
          "base_uri": "https://localhost:8080/",
          "height": 350
        },
        "id": "HZDAgd6xbZe7",
        "outputId": "162db0ec-a017-47bd-b243-f85ab89aabc7"
      },
      "source": [
        "sns.distplot(dataset['Year'])\n"
      ],
      "execution_count": null,
      "outputs": [
        {
          "output_type": "stream",
          "text": [
            "/usr/local/lib/python3.7/dist-packages/seaborn/distributions.py:2557: FutureWarning: `distplot` is a deprecated function and will be removed in a future version. Please adapt your code to use either `displot` (a figure-level function with similar flexibility) or `histplot` (an axes-level function for histograms).\n",
            "  warnings.warn(msg, FutureWarning)\n"
          ],
          "name": "stderr"
        },
        {
          "output_type": "execute_result",
          "data": {
            "text/plain": [
              "<matplotlib.axes._subplots.AxesSubplot at 0x7fcbde816150>"
            ]
          },
          "metadata": {
            "tags": []
          },
          "execution_count": 3
        },
        {
          "output_type": "display_data",
          "data": {
            "image/png": "[encoded data removed]",
            "text/plain": [
              "<Figure size 432x288 with 1 Axes>"
            ]
          },
          "metadata": {
            "tags": [],
            "needs_background": "light"
          }
        }
      ]
    },
    {
      "cell_type": "code",
      "metadata": {
        "colab": {
          "base_uri": "https://localhost:8080/"
        },
        "id": "ulhHenLmksul",
        "outputId": "f59365a8-4671-43d8-cdb4-ff0ccef326c0"
      },
      "source": [
        "dataset['Year'].value_counts()"
      ],
      "execution_count": null,
      "outputs": [
        {
          "output_type": "execute_result",
          "data": {
            "text/plain": [
              "1993    24335\n",
              "1992    23793\n",
              "1994    23246\n",
              "1980    23092\n",
              "1991    22657\n",
              "1990    21246\n",
              "1981    21208\n",
              "1995    21179\n",
              "1982    20544\n",
              "1986    20125\n",
              "1989    19868\n",
              "1983    19653\n",
              "1996    18969\n",
              "1987    18783\n",
              "1988    18779\n",
              "1985    18386\n",
              "1984    18093\n",
              "1997    17794\n",
              "2007    17303\n",
              "2006    17275\n",
              "2005    16836\n",
              "2003    16512\n",
              "2002    16268\n",
              "2004    16233\n",
              "1998    16061\n",
              "2009    15840\n",
              "2001    15803\n",
              "2008    15595\n",
              "2010    15121\n",
              "2012    15033\n",
              "2011    14756\n",
              "2000    14671\n",
              "1999    14621\n",
              "2013    14445\n",
              "2014    14331\n",
              "Name: Year, dtype: int64"
            ]
          },
          "metadata": {
            "tags": []
          },
          "execution_count": 4
        }
      ]
    },
    {
      "cell_type": "code",
      "metadata": {
        "colab": {
          "base_uri": "https://localhost:8080/"
        },
        "id": "nZVTET9BkbXF",
        "outputId": "c27c0129-5f21-4036-8659-92a7040ae820"
      },
      "source": [
        "dataset['Year'].unique()"
      ],
      "execution_count": null,
      "outputs": [
        {
          "output_type": "execute_result",
          "data": {
            "text/plain": [
              "array([1980, 1981, 1982, 1983, 1984, 1985, 1986, 1987, 1988, 1989, 1990,\n",
              "       1991, 1992, 1993, 1994, 1995, 1996, 1997, 1998, 1999, 2000, 2001,\n",
              "       2002, 2003, 2004, 2005, 2006, 2007, 2008, 2009, 2010, 2011, 2012,\n",
              "       2013, 2014])"
            ]
          },
          "metadata": {
            "tags": []
          },
          "execution_count": 5
        }
      ]
    },
    {
      "cell_type": "code",
      "metadata": {
        "colab": {
          "base_uri": "https://localhost:8080/"
        },
        "id": "SphmmRZIce8n",
        "outputId": "f594a167-e73a-4c9d-ec62-83b2072375f5"
      },
      "source": [
        "dataset['Year'].tail"
      ],
      "execution_count": null,
      "outputs": [
        {
          "output_type": "execute_result",
          "data": {
            "text/plain": [
              "<bound method NDFrame.tail of 0         1980\n",
              "1         1980\n",
              "2         1980\n",
              "3         1980\n",
              "4         1980\n",
              "          ... \n",
              "638449    2014\n",
              "638450    2014\n",
              "638451    2014\n",
              "638452    2014\n",
              "638453    2014\n",
              "Name: Year, Length: 638454, dtype: int64>"
            ]
          },
          "metadata": {
            "tags": []
          },
          "execution_count": 6
        }
      ]
    },
    {
      "cell_type": "code",
      "metadata": {
        "colab": {
          "base_uri": "https://localhost:8080/",
          "height": 768
        },
        "id": "ZJsM8yMAf5FZ",
        "outputId": "cdd781a6-8e33-4f74-b1af-7c7e3ca66289"
      },
      "source": [
        "# Dataframe correlation\n",
        "del_corr = dataset.corr()\n",
        "# Draw the figure\n",
        "f, ax = plt.subplots(figsize=(12, 13))\n",
        "\n",
        "# Draw the heatmap\n",
        "sns.heatmap(del_corr,annot=True,cmap='inferno')\n",
        "plt.show()"
      ],
      "execution_count": null,
      "outputs": [
        {
          "output_type": "display_data",
          "data": {
            "image/png": "[encoded data removed]",
            "text/plain": [
              "<Figure size 864x936 with 2 Axes>"
            ]
          },
          "metadata": {
            "tags": [],
            "needs_background": "light"
          }
        }
      ]
    },
    {
      "cell_type": "code",
      "metadata": {
        "colab": {
          "base_uri": "https://localhost:8080/"
        },
        "id": "bsKoyuaChREa",
        "outputId": "2337d49f-4204-4995-d090-eab68630399b"
      },
      "source": [
        "dataset.head"
      ],
      "execution_count": null,
      "outputs": [
        {
          "output_type": "execute_result",
          "data": {
            "text/plain": [
              "<bound method NDFrame.head of         Record ID Agency Code  ... Perpetrator Count Record Source\n",
              "0               1     AK00101  ...                 0           FBI\n",
              "1               2     AK00101  ...                 0           FBI\n",
              "2               3     AK00101  ...                 0           FBI\n",
              "3               4     AK00101  ...                 0           FBI\n",
              "4               5     AK00101  ...                 1           FBI\n",
              "...           ...         ...  ...               ...           ...\n",
              "638449     638450     WY01500  ...                 0           FBI\n",
              "638450     638451     WY01700  ...                 0           FBI\n",
              "638451     638452     WY01701  ...                 0           FBI\n",
              "638452     638453     WY01800  ...                 1           FBI\n",
              "638453     638454     WY01902  ...                 1           FBI\n",
              "\n",
              "[638454 rows x 24 columns]>"
            ]
          },
          "metadata": {
            "tags": []
          },
          "execution_count": 8
        }
      ]
    },
    {
      "cell_type": "code",
      "metadata": {
        "colab": {
          "base_uri": "https://localhost:8080/"
        },
        "id": "tQpdEFhQlY4L",
        "outputId": "de81a1a3-15a7-4eb8-e8a3-22f1d6cfda47"
      },
      "source": [
        "dataset['Crime Solved'].value_counts()"
      ],
      "execution_count": null,
      "outputs": [
        {
          "output_type": "execute_result",
          "data": {
            "text/plain": [
              "Yes    448172\n",
              "No     190282\n",
              "Name: Crime Solved, dtype: int64"
            ]
          },
          "metadata": {
            "tags": []
          },
          "execution_count": 9
        }
      ]
    },
    {
      "cell_type": "code",
      "metadata": {
        "id": "8APlRShNgr54",
        "colab": {
          "base_uri": "https://localhost:8080/",
          "height": 69
        },
        "outputId": "674a643d-8148-4c0b-e664-1ca9ac46b6b2"
      },
      "source": [
        "''' sns.set(style=\"whitegrid\")\n",
        "\n",
        "# initialize the figure\n",
        "fig_dim = (10,12)\n",
        "f, ax = plt.subplots(figsize=fig_dim)\n",
        "sns.despine(bottom=True, left=True)\n",
        "\n",
        "# Show each observation with a scatterplot\n",
        "sns.stripplot(x=\"\", y=\"\",\n",
        "              data=fd, dodge=True, jitter=True\n",
        "            )\n",
        "plt.show() '''"
      ],
      "execution_count": null,
      "outputs": [
        {
          "output_type": "execute_result",
          "data": {
            "application/vnd.google.colaboratory.intrinsic+json": {
              "type": "string"
            },
            "text/plain": [
              "' sns.set(style=\"whitegrid\")\\n\\n# initialize the figure\\nfig_dim = (10,12)\\nf, ax = plt.subplots(figsize=fig_dim)\\nsns.despine(bottom=True, left=True)\\n\\n# Show each observation with a scatterplot\\nsns.stripplot(x=\"\", y=\"\",\\n              data=fd, dodge=True, jitter=True\\n            )\\nplt.show() '"
            ]
          },
          "metadata": {
            "tags": []
          },
          "execution_count": 10
        }
      ]
    },
    {
      "cell_type": "code",
      "metadata": {
        "colab": {
          "base_uri": "https://localhost:8080/",
          "height": 466
        },
        "id": "xgGT4kDJhIqO",
        "outputId": "ba73a86c-f3be-49b9-a683-ee67bea2563e"
      },
      "source": [
        "fig_dim = (8,8)\n",
        "f, ax = plt.subplots(figsize=fig_dim)\n",
        "quality=dataset[\"Victim Sex\"].unique()\n",
        "size=dataset[\"Victim Sex\"].value_counts()\n",
        "\n",
        "plt.pie(size,labels=quality,autopct='%1.0f%%')\n",
        "plt.show()"
      ],
      "execution_count": null,
      "outputs": [
        {
          "output_type": "display_data",
          "data": {
            "image/png": "[encoded data removed]",
            "text/plain": [
              "<Figure size 576x576 with 1 Axes>"
            ]
          },
          "metadata": {
            "tags": []
          }
        }
      ]
    },
    {
      "cell_type": "code",
      "metadata": {
        "colab": {
          "base_uri": "https://localhost:8080/",
          "height": 466
        },
        "id": "BQqPk8S2hqfy",
        "outputId": "84f2ecf3-3169-4c79-c7df-afe8d38bd648"
      },
      "source": [
        "fig_dim = (8,8)\n",
        "f, ax = plt.subplots(figsize=fig_dim)\n",
        "quality=dataset[\"Perpetrator Sex\"].unique()\n",
        "size=dataset[\"Perpetrator Sex\"].value_counts()\n",
        "\n",
        "plt.pie(size,labels=quality,autopct='%1.0f%%')\n",
        "plt.show()"
      ],
      "execution_count": null,
      "outputs": [
        {
          "output_type": "display_data",
          "data": {
            "image/png": "[encoded data removed]",
            "text/plain": [
              "<Figure size 576x576 with 1 Axes>"
            ]
          },
          "metadata": {
            "tags": []
          }
        }
      ]
    },
    {
      "cell_type": "code",
      "metadata": {
        "colab": {
          "base_uri": "https://localhost:8080/",
          "height": 862
        },
        "id": "PuF22r6EijFz",
        "outputId": "1e6d31d6-de62-4490-c619-60631d0e05a1"
      },
      "source": [
        "fig_dim = (15,15)\n",
        "f, ax = plt.subplots(figsize=fig_dim)\n",
        "quality=dataset[\"Weapon\"].unique()\n",
        "size=dataset[\"Weapon\"].value_counts()\n",
        "\n",
        "plt.pie(size,labels=quality,autopct='%0.0f%%')\n",
        "plt.title(\"Weapons Used\")\n",
        "plt.show()"
      ],
      "execution_count": null,
      "outputs": [
        {
          "output_type": "display_data",
          "data": {
            "image/png": "[encoded data removed]",
            "text/plain": [
              "<Figure size 1080x1080 with 1 Axes>"
            ]
          },
          "metadata": {
            "tags": []
          }
        }
      ]
    },
    {
      "cell_type": "code",
      "metadata": {
        "colab": {
          "base_uri": "https://localhost:8080/"
        },
        "id": "Ya1o25JknHW8",
        "outputId": "c0971c08-153e-457a-d42d-677750d3c31d"
      },
      "source": [
        "dataset.columns.to_list()"
      ],
      "execution_count": null,
      "outputs": [
        {
          "output_type": "execute_result",
          "data": {
            "text/plain": [
              "['Record ID',\n",
              " 'Agency Code',\n",
              " 'Agency Name',\n",
              " 'Agency Type',\n",
              " 'City',\n",
              " 'State',\n",
              " 'Year',\n",
              " 'Month',\n",
              " 'Incident',\n",
              " 'Crime Type',\n",
              " 'Crime Solved',\n",
              " 'Victim Sex',\n",
              " 'Victim Age',\n",
              " 'Victim Race',\n",
              " 'Victim Ethnicity',\n",
              " 'Perpetrator Sex',\n",
              " 'Perpetrator Age',\n",
              " 'Perpetrator Race',\n",
              " 'Perpetrator Ethnicity',\n",
              " 'Relationship',\n",
              " 'Weapon',\n",
              " 'Victim Count',\n",
              " 'Perpetrator Count',\n",
              " 'Record Source']"
            ]
          },
          "metadata": {
            "tags": []
          },
          "execution_count": 14
        }
      ]
    },
    {
      "cell_type": "code",
      "metadata": {
        "id": "mFvKlZw7sTrv"
      },
      "source": [
        "dataset.drop(['Crime Type','Victim Race','Victim Sex',\n",
        " 'Victim Ethnicity',\n",
        " 'Perpetrator Sex',\n",
        " 'Perpetrator Race',\n",
        " 'Perpetrator Ethnicity',\n",
        " 'Relationship'],inplace=True,axis=1)"
      ],
      "execution_count": null,
      "outputs": []
    },
    {
      "cell_type": "code",
      "metadata": {
        "colab": {
          "base_uri": "https://localhost:8080/"
        },
        "id": "S3utXv6vrHtm",
        "outputId": "e63b1841-4d59-4c6b-9a13-c9607ea4aa97"
      },
      "source": [
        "dataset['City']"
      ],
      "execution_count": null,
      "outputs": [
        {
          "output_type": "execute_result",
          "data": {
            "text/plain": [
              "0          Anchorage\n",
              "1          Anchorage\n",
              "2          Anchorage\n",
              "3          Anchorage\n",
              "4          Anchorage\n",
              "             ...    \n",
              "638449          Park\n",
              "638450      Sheridan\n",
              "638451      Sheridan\n",
              "638452      Sublette\n",
              "638453    Sweetwater\n",
              "Name: City, Length: 638454, dtype: object"
            ]
          },
          "metadata": {
            "tags": []
          },
          "execution_count": 16
        }
      ]
    },
    {
      "cell_type": "code",
      "metadata": {
        "colab": {
          "base_uri": "https://localhost:8080/"
        },
        "id": "ZXodg__srzhC",
        "outputId": "cce3ec17-3857-4982-e958-c3700cd0b6da"
      },
      "source": [
        "dataset.columns.to_list()"
      ],
      "execution_count": null,
      "outputs": [
        {
          "output_type": "execute_result",
          "data": {
            "text/plain": [
              "['Record ID',\n",
              " 'Agency Code',\n",
              " 'Agency Name',\n",
              " 'Agency Type',\n",
              " 'City',\n",
              " 'State',\n",
              " 'Year',\n",
              " 'Month',\n",
              " 'Incident',\n",
              " 'Crime Solved',\n",
              " 'Victim Age',\n",
              " 'Perpetrator Age',\n",
              " 'Weapon',\n",
              " 'Victim Count',\n",
              " 'Perpetrator Count',\n",
              " 'Record Source']"
            ]
          },
          "metadata": {
            "tags": []
          },
          "execution_count": 17
        }
      ]
    },
    {
      "cell_type": "code",
      "metadata": {
        "colab": {
          "base_uri": "https://localhost:8080/"
        },
        "id": "kDwJ1dmItKQR",
        "outputId": "f10c0dfa-6dca-4055-a7c2-8409b4735f00"
      },
      "source": [
        "dataset.dtypes"
      ],
      "execution_count": null,
      "outputs": [
        {
          "output_type": "execute_result",
          "data": {
            "text/plain": [
              "Record ID             int64\n",
              "Agency Code          object\n",
              "Agency Name          object\n",
              "Agency Type          object\n",
              "City                 object\n",
              "State                object\n",
              "Year                  int64\n",
              "Month                object\n",
              "Incident              int64\n",
              "Crime Solved         object\n",
              "Victim Age            int64\n",
              "Perpetrator Age      object\n",
              "Weapon               object\n",
              "Victim Count          int64\n",
              "Perpetrator Count     int64\n",
              "Record Source        object\n",
              "dtype: object"
            ]
          },
          "metadata": {
            "tags": []
          },
          "execution_count": 18
        }
      ]
    },
    {
      "cell_type": "code",
      "metadata": {
        "id": "1hNuD96Q8jab"
      },
      "source": [
        "dataset.drop(['State'],inplace=True,axis=1)"
      ],
      "execution_count": null,
      "outputs": []
    },
    {
      "cell_type": "code",
      "metadata": {
        "colab": {
          "base_uri": "https://localhost:8080/",
          "height": 402
        },
        "id": "jeSLTIhCtnBd",
        "outputId": "764bb7c8-0854-4b4c-c7b8-ee9f326ded89"
      },
      "source": [
        "dataset[['Agency Type',\n",
        " 'Weapon','Perpetrator Age' ,'Victim Count',\n",
        " 'Perpetrator Count', 'Year',\n",
        " 'Incident','Victim Age','Crime Solved']]"
      ],
      "execution_count": null,
      "outputs": [
        {
          "output_type": "execute_result",
          "data": {
            "text/html": [
              "<div>\n",
              "<style scoped>\n",
              "    .dataframe tbody tr th:only-of-type {\n",
              "        vertical-align: middle;\n",
              "    }\n",
              "\n",
              "    .dataframe tbody tr th {\n",
              "        vertical-align: top;\n",
              "    }\n",
              "\n",
              "    .dataframe thead th {\n",
              "        text-align: right;\n",
              "    }\n",
              "</style>\n",
              "<table border=\"1\" class=\"dataframe\">\n",
              "  <thead>\n",
              "    <tr style=\"text-align: right;\">\n",
              "      <th></th>\n",
              "      <th>Agency Type</th>\n",
              "      <th>Weapon</th>\n",
              "      <th>Perpetrator Age</th>\n",
              "      <th>Victim Count</th>\n",
              "      <th>Perpetrator Count</th>\n",
              "      <th>Year</th>\n",
              "      <th>Incident</th>\n",
              "      <th>Victim Age</th>\n",
              "      <th>Crime Solved</th>\n",
              "    </tr>\n",
              "  </thead>\n",
              "  <tbody>\n",
              "    <tr>\n",
              "      <th>0</th>\n",
              "      <td>Municipal Police</td>\n",
              "      <td>Blunt Object</td>\n",
              "      <td>15</td>\n",
              "      <td>0</td>\n",
              "      <td>0</td>\n",
              "      <td>1980</td>\n",
              "      <td>1</td>\n",
              "      <td>14</td>\n",
              "      <td>Yes</td>\n",
              "    </tr>\n",
              "    <tr>\n",
              "      <th>1</th>\n",
              "      <td>Municipal Police</td>\n",
              "      <td>Strangulation</td>\n",
              "      <td>42</td>\n",
              "      <td>0</td>\n",
              "      <td>0</td>\n",
              "      <td>1980</td>\n",
              "      <td>1</td>\n",
              "      <td>43</td>\n",
              "      <td>Yes</td>\n",
              "    </tr>\n",
              "    <tr>\n",
              "      <th>2</th>\n",
              "      <td>Municipal Police</td>\n",
              "      <td>Unknown</td>\n",
              "      <td>0</td>\n",
              "      <td>0</td>\n",
              "      <td>0</td>\n",
              "      <td>1980</td>\n",
              "      <td>2</td>\n",
              "      <td>30</td>\n",
              "      <td>No</td>\n",
              "    </tr>\n",
              "    <tr>\n",
              "      <th>3</th>\n",
              "      <td>Municipal Police</td>\n",
              "      <td>Strangulation</td>\n",
              "      <td>42</td>\n",
              "      <td>0</td>\n",
              "      <td>0</td>\n",
              "      <td>1980</td>\n",
              "      <td>1</td>\n",
              "      <td>43</td>\n",
              "      <td>Yes</td>\n",
              "    </tr>\n",
              "    <tr>\n",
              "      <th>4</th>\n",
              "      <td>Municipal Police</td>\n",
              "      <td>Unknown</td>\n",
              "      <td>0</td>\n",
              "      <td>0</td>\n",
              "      <td>1</td>\n",
              "      <td>1980</td>\n",
              "      <td>2</td>\n",
              "      <td>30</td>\n",
              "      <td>No</td>\n",
              "    </tr>\n",
              "    <tr>\n",
              "      <th>...</th>\n",
              "      <td>...</td>\n",
              "      <td>...</td>\n",
              "      <td>...</td>\n",
              "      <td>...</td>\n",
              "      <td>...</td>\n",
              "      <td>...</td>\n",
              "      <td>...</td>\n",
              "      <td>...</td>\n",
              "      <td>...</td>\n",
              "    </tr>\n",
              "    <tr>\n",
              "      <th>638449</th>\n",
              "      <td>Sheriff</td>\n",
              "      <td>Handgun</td>\n",
              "      <td>0</td>\n",
              "      <td>0</td>\n",
              "      <td>0</td>\n",
              "      <td>2014</td>\n",
              "      <td>1</td>\n",
              "      <td>30</td>\n",
              "      <td>No</td>\n",
              "    </tr>\n",
              "    <tr>\n",
              "      <th>638450</th>\n",
              "      <td>Sheriff</td>\n",
              "      <td>Handgun</td>\n",
              "      <td>57</td>\n",
              "      <td>0</td>\n",
              "      <td>0</td>\n",
              "      <td>2014</td>\n",
              "      <td>1</td>\n",
              "      <td>62</td>\n",
              "      <td>Yes</td>\n",
              "    </tr>\n",
              "    <tr>\n",
              "      <th>638451</th>\n",
              "      <td>Municipal Police</td>\n",
              "      <td>Suffocation</td>\n",
              "      <td>22</td>\n",
              "      <td>0</td>\n",
              "      <td>0</td>\n",
              "      <td>2014</td>\n",
              "      <td>1</td>\n",
              "      <td>0</td>\n",
              "      <td>Yes</td>\n",
              "    </tr>\n",
              "    <tr>\n",
              "      <th>638452</th>\n",
              "      <td>Sheriff</td>\n",
              "      <td>Knife</td>\n",
              "      <td>31</td>\n",
              "      <td>0</td>\n",
              "      <td>1</td>\n",
              "      <td>2014</td>\n",
              "      <td>1</td>\n",
              "      <td>55</td>\n",
              "      <td>Yes</td>\n",
              "    </tr>\n",
              "    <tr>\n",
              "      <th>638453</th>\n",
              "      <td>Municipal Police</td>\n",
              "      <td>Blunt Object</td>\n",
              "      <td>24</td>\n",
              "      <td>0</td>\n",
              "      <td>1</td>\n",
              "      <td>2014</td>\n",
              "      <td>1</td>\n",
              "      <td>0</td>\n",
              "      <td>Yes</td>\n",
              "    </tr>\n",
              "  </tbody>\n",
              "</table>\n",
              "<p>638454 rows × 9 columns</p>\n",
              "</div>"
            ],
            "text/plain": [
              "             Agency Type         Weapon  ... Victim Age  Crime Solved\n",
              "0       Municipal Police   Blunt Object  ...         14           Yes\n",
              "1       Municipal Police  Strangulation  ...         43           Yes\n",
              "2       Municipal Police        Unknown  ...         30            No\n",
              "3       Municipal Police  Strangulation  ...         43           Yes\n",
              "4       Municipal Police        Unknown  ...         30            No\n",
              "...                  ...            ...  ...        ...           ...\n",
              "638449           Sheriff        Handgun  ...         30            No\n",
              "638450           Sheriff        Handgun  ...         62           Yes\n",
              "638451  Municipal Police    Suffocation  ...          0           Yes\n",
              "638452           Sheriff          Knife  ...         55           Yes\n",
              "638453  Municipal Police   Blunt Object  ...          0           Yes\n",
              "\n",
              "[638454 rows x 9 columns]"
            ]
          },
          "metadata": {
            "tags": []
          },
          "execution_count": 20
        }
      ]
    },
    {
      "cell_type": "code",
      "metadata": {
        "colab": {
          "base_uri": "https://localhost:8080/"
        },
        "id": "y1yJYDb_Ad4O",
        "outputId": "0efaf13e-35e2-4b34-aa48-3edf9a62010e"
      },
      "source": [
        "dataset.columns.to_list()"
      ],
      "execution_count": null,
      "outputs": [
        {
          "output_type": "execute_result",
          "data": {
            "text/plain": [
              "['Record ID',\n",
              " 'Agency Code',\n",
              " 'Agency Name',\n",
              " 'Agency Type',\n",
              " 'City',\n",
              " 'Year',\n",
              " 'Month',\n",
              " 'Incident',\n",
              " 'Crime Solved',\n",
              " 'Victim Age',\n",
              " 'Perpetrator Age',\n",
              " 'Weapon',\n",
              " 'Victim Count',\n",
              " 'Perpetrator Count',\n",
              " 'Record Source']"
            ]
          },
          "metadata": {
            "tags": []
          },
          "execution_count": 21
        }
      ]
    },
    {
      "cell_type": "markdown",
      "metadata": {
        "id": "hmgTHbu1I6QF"
      },
      "source": [
        "## RandomForest Model"
      ]
    },
    {
      "cell_type": "code",
      "metadata": {
        "colab": {
          "base_uri": "https://localhost:8080/"
        },
        "id": "aB5Hx5c8A7WY",
        "outputId": "d3902349-7946-434d-ac7b-a507f70af8a5"
      },
      "source": [
        "dataset = pd.read_csv('database.csv')"
      ],
      "execution_count": null,
      "outputs": [
        {
          "output_type": "stream",
          "text": [
            "/usr/local/lib/python3.7/dist-packages/IPython/core/interactiveshell.py:2718: DtypeWarning: Columns (16) have mixed types.Specify dtype option on import or set low_memory=False.\n",
            "  interactivity=interactivity, compiler=compiler, result=result)\n"
          ],
          "name": "stderr"
        }
      ]
    },
    {
      "cell_type": "code",
      "metadata": {
        "colab": {
          "base_uri": "https://localhost:8080/"
        },
        "id": "CwoQ1kx9A8n4",
        "outputId": "db6e7609-f394-475f-eac7-cae40384d152"
      },
      "source": [
        "dataset.columns.to_list()"
      ],
      "execution_count": null,
      "outputs": [
        {
          "output_type": "execute_result",
          "data": {
            "text/plain": [
              "['Record ID',\n",
              " 'Agency Code',\n",
              " 'Agency Name',\n",
              " 'Agency Type',\n",
              " 'City',\n",
              " 'State',\n",
              " 'Year',\n",
              " 'Month',\n",
              " 'Incident',\n",
              " 'Crime Type',\n",
              " 'Crime Solved',\n",
              " 'Victim Sex',\n",
              " 'Victim Age',\n",
              " 'Victim Race',\n",
              " 'Victim Ethnicity',\n",
              " 'Perpetrator Sex',\n",
              " 'Perpetrator Age',\n",
              " 'Perpetrator Race',\n",
              " 'Perpetrator Ethnicity',\n",
              " 'Relationship',\n",
              " 'Weapon',\n",
              " 'Victim Count',\n",
              " 'Perpetrator Count',\n",
              " 'Record Source']"
            ]
          },
          "metadata": {
            "tags": []
          },
          "execution_count": 23
        }
      ]
    },
    {
      "cell_type": "code",
      "metadata": {
        "id": "khoKg5HxAcc-"
      },
      "source": [
        "finaldata = dataset.drop(['Crime Type','Victim Race','Victim Sex','Agency Name', 'City', 'Month','Agency Code',\n",
        " 'Victim Ethnicity','Relationship',\n",
        " 'Perpetrator Sex',\n",
        " 'Perpetrator Race',\n",
        " 'Perpetrator Ethnicity',\n",
        " 'Record ID'],inplace=True,axis=1)"
      ],
      "execution_count": null,
      "outputs": []
    },
    {
      "cell_type": "code",
      "metadata": {
        "id": "YxFYW96fCueC"
      },
      "source": [
        "dataset.drop(['Record Source'],axis=1,inplace=True)"
      ],
      "execution_count": null,
      "outputs": []
    },
    {
      "cell_type": "code",
      "metadata": {
        "colab": {
          "base_uri": "https://localhost:8080/"
        },
        "id": "u6YRMBvkA4cl",
        "outputId": "665158b4-77ca-4cfe-b29d-d6af976e0ee4"
      },
      "source": [
        "dataset.columns.to_list()"
      ],
      "execution_count": null,
      "outputs": [
        {
          "output_type": "execute_result",
          "data": {
            "text/plain": [
              "['Agency Type',\n",
              " 'State',\n",
              " 'Year',\n",
              " 'Incident',\n",
              " 'Crime Solved',\n",
              " 'Victim Age',\n",
              " 'Perpetrator Age',\n",
              " 'Weapon',\n",
              " 'Victim Count',\n",
              " 'Perpetrator Count']"
            ]
          },
          "metadata": {
            "tags": []
          },
          "execution_count": 26
        }
      ]
    },
    {
      "cell_type": "code",
      "metadata": {
        "id": "cSnRJCV6CiCD"
      },
      "source": [
        "finaldata = dataset[['Agency Type','State','Incident',\n",
        " 'Victim Age',\n",
        " 'Weapon',\n",
        " 'Victim Count',\n",
        " 'Perpetrator Count','Crime Solved']]"
      ],
      "execution_count": null,
      "outputs": []
    },
    {
      "cell_type": "code",
      "metadata": {
        "id": "HtIPoG_C2x19"
      },
      "source": [
        "from sklearn.preprocessing import LabelEncoder\n",
        "le = LabelEncoder()\n",
        "agency = le.fit_transform(finaldata['Agency Type'])\n",
        "state = le.fit_transform(finaldata['State'])\n",
        "weapon = le.fit_transform(finaldata['Weapon'])\n",
        "solved = le.fit_transform(finaldata['Crime Solved'])"
      ],
      "execution_count": null,
      "outputs": []
    },
    {
      "cell_type": "code",
      "metadata": {
        "colab": {
          "base_uri": "https://localhost:8080/"
        },
        "id": "_Iytvn1uEsbc",
        "outputId": "2124538f-ef85-4f76-f7f8-15da8b3c0296"
      },
      "source": [
        "finaldata['Agency Type'] = agency\n",
        "finaldata['State'] = state\n",
        "finaldata['Weapon'] = weapon\n",
        "finaldata['Crime Solved'] = solved"
      ],
      "execution_count": null,
      "outputs": [
        {
          "output_type": "stream",
          "text": [
            "/usr/local/lib/python3.7/dist-packages/ipykernel_launcher.py:1: SettingWithCopyWarning: \n",
            "A value is trying to be set on a copy of a slice from a DataFrame.\n",
            "Try using .loc[row_indexer,col_indexer] = value instead\n",
            "\n",
            "See the caveats in the documentation: https://pandas.pydata.org/pandas-docs/stable/user_guide/indexing.html#returning-a-view-versus-a-copy\n",
            "  \"\"\"Entry point for launching an IPython kernel.\n",
            "/usr/local/lib/python3.7/dist-packages/ipykernel_launcher.py:2: SettingWithCopyWarning: \n",
            "A value is trying to be set on a copy of a slice from a DataFrame.\n",
            "Try using .loc[row_indexer,col_indexer] = value instead\n",
            "\n",
            "See the caveats in the documentation: https://pandas.pydata.org/pandas-docs/stable/user_guide/indexing.html#returning-a-view-versus-a-copy\n",
            "  \n",
            "/usr/local/lib/python3.7/dist-packages/ipykernel_launcher.py:3: SettingWithCopyWarning: \n",
            "A value is trying to be set on a copy of a slice from a DataFrame.\n",
            "Try using .loc[row_indexer,col_indexer] = value instead\n",
            "\n",
            "See the caveats in the documentation: https://pandas.pydata.org/pandas-docs/stable/user_guide/indexing.html#returning-a-view-versus-a-copy\n",
            "  This is separate from the ipykernel package so we can avoid doing imports until\n",
            "/usr/local/lib/python3.7/dist-packages/ipykernel_launcher.py:4: SettingWithCopyWarning: \n",
            "A value is trying to be set on a copy of a slice from a DataFrame.\n",
            "Try using .loc[row_indexer,col_indexer] = value instead\n",
            "\n",
            "See the caveats in the documentation: https://pandas.pydata.org/pandas-docs/stable/user_guide/indexing.html#returning-a-view-versus-a-copy\n",
            "  after removing the cwd from sys.path.\n"
          ],
          "name": "stderr"
        }
      ]
    },
    {
      "cell_type": "code",
      "metadata": {
        "colab": {
          "base_uri": "https://localhost:8080/"
        },
        "id": "B4Vt18RvGzve",
        "outputId": "b7c84d0b-1c41-4e8e-a6b1-d1bc0ec27478"
      },
      "source": [
        "finaldata.dtypes"
      ],
      "execution_count": null,
      "outputs": [
        {
          "output_type": "execute_result",
          "data": {
            "text/plain": [
              "Agency Type          int64\n",
              "State                int64\n",
              "Incident             int64\n",
              "Victim Age           int64\n",
              "Weapon               int64\n",
              "Victim Count         int64\n",
              "Perpetrator Count    int64\n",
              "Crime Solved         int64\n",
              "dtype: object"
            ]
          },
          "metadata": {
            "tags": []
          },
          "execution_count": 30
        }
      ]
    },
    {
      "cell_type": "code",
      "metadata": {
        "id": "DXskXDZyDB8r",
        "colab": {
          "base_uri": "https://localhost:8080/",
          "height": 178
        },
        "outputId": "493836b3-3f4e-4588-8b00-8bee9ad0251c"
      },
      "source": [
        "x = finaldata.iloc[:, :-1].values\n",
        "y = finaldata.iloc[:, -1].values"
      ],
      "execution_count": null,
      "outputs": [
        {
          "output_type": "error",
          "ename": "NameError",
          "evalue": "ignored",
          "traceback": [
            "\u001b[0;31m---------------------------------------------------------------------------\u001b[0m",
            "\u001b[0;31mNameError\u001b[0m                                 Traceback (most recent call last)",
            "\u001b[0;32m<ipython-input-3-76dd50e88582>\u001b[0m in \u001b[0;36m<module>\u001b[0;34m()\u001b[0m\n\u001b[0;32m----> 1\u001b[0;31m \u001b[0mx\u001b[0m \u001b[0;34m=\u001b[0m \u001b[0mfinaldata\u001b[0m\u001b[0;34m.\u001b[0m\u001b[0miloc\u001b[0m\u001b[0;34m[\u001b[0m\u001b[0;34m:\u001b[0m\u001b[0;34m,\u001b[0m \u001b[0;34m:\u001b[0m\u001b[0;34m-\u001b[0m\u001b[0;36m1\u001b[0m\u001b[0;34m]\u001b[0m\u001b[0;34m.\u001b[0m\u001b[0mvalues\u001b[0m\u001b[0;34m\u001b[0m\u001b[0;34m\u001b[0m\u001b[0m\n\u001b[0m\u001b[1;32m      2\u001b[0m \u001b[0my\u001b[0m \u001b[0;34m=\u001b[0m \u001b[0mfinaldata\u001b[0m\u001b[0;34m.\u001b[0m\u001b[0miloc\u001b[0m\u001b[0;34m[\u001b[0m\u001b[0;34m:\u001b[0m\u001b[0;34m,\u001b[0m \u001b[0;34m-\u001b[0m\u001b[0;36m1\u001b[0m\u001b[0;34m]\u001b[0m\u001b[0;34m.\u001b[0m\u001b[0mvalues\u001b[0m\u001b[0;34m\u001b[0m\u001b[0;34m\u001b[0m\u001b[0m\n",
            "\u001b[0;31mNameError\u001b[0m: name 'finaldata' is not defined"
          ]
        }
      ]
    },
    {
      "cell_type": "code",
      "metadata": {
        "id": "HLOFwF9s4Wik",
        "colab": {
          "base_uri": "https://localhost:8080/",
          "height": 178
        },
        "outputId": "d1202bc9-d714-4e32-8b5f-1e996d9c4064"
      },
      "source": [
        "from sklearn.model_selection import train_test_split\n",
        "X_train, X_test, y_train, y_test = train_test_split(x, y, test_size = 0.15, random_state = 0)"
      ],
      "execution_count": null,
      "outputs": [
        {
          "output_type": "error",
          "ename": "NameError",
          "evalue": "ignored",
          "traceback": [
            "\u001b[0;31m---------------------------------------------------------------------------\u001b[0m",
            "\u001b[0;31mNameError\u001b[0m                                 Traceback (most recent call last)",
            "\u001b[0;32m<ipython-input-2-c12d1280ff04>\u001b[0m in \u001b[0;36m<module>\u001b[0;34m()\u001b[0m\n\u001b[1;32m      1\u001b[0m \u001b[0;32mfrom\u001b[0m \u001b[0msklearn\u001b[0m\u001b[0;34m.\u001b[0m\u001b[0mmodel_selection\u001b[0m \u001b[0;32mimport\u001b[0m \u001b[0mtrain_test_split\u001b[0m\u001b[0;34m\u001b[0m\u001b[0;34m\u001b[0m\u001b[0m\n\u001b[0;32m----> 2\u001b[0;31m \u001b[0mX_train\u001b[0m\u001b[0;34m,\u001b[0m \u001b[0mX_test\u001b[0m\u001b[0;34m,\u001b[0m \u001b[0my_train\u001b[0m\u001b[0;34m,\u001b[0m \u001b[0my_test\u001b[0m \u001b[0;34m=\u001b[0m \u001b[0mtrain_test_split\u001b[0m\u001b[0;34m(\u001b[0m\u001b[0mx\u001b[0m\u001b[0;34m,\u001b[0m \u001b[0my\u001b[0m\u001b[0;34m,\u001b[0m \u001b[0mtest_size\u001b[0m \u001b[0;34m=\u001b[0m \u001b[0;36m0.15\u001b[0m\u001b[0;34m,\u001b[0m \u001b[0mrandom_state\u001b[0m \u001b[0;34m=\u001b[0m \u001b[0;36m0\u001b[0m\u001b[0;34m)\u001b[0m\u001b[0;34m\u001b[0m\u001b[0;34m\u001b[0m\u001b[0m\n\u001b[0m",
            "\u001b[0;31mNameError\u001b[0m: name 'x' is not defined"
          ]
        }
      ]
    },
    {
      "cell_type": "code",
      "metadata": {
        "colab": {
          "base_uri": "https://localhost:8080/",
          "height": 195
        },
        "id": "j6susQxA49S0",
        "outputId": "17c1a4f0-78b9-4e1d-9de2-295dbf03c6d4"
      },
      "source": [
        "from sklearn.ensemble import RandomForestClassifier\n",
        "classifier = RandomForestClassifier(n_estimators = 100, criterion = 'entropy')\n",
        "classifier.fit(X_train, y_train)"
      ],
      "execution_count": null,
      "outputs": [
        {
          "output_type": "error",
          "ename": "NameError",
          "evalue": "ignored",
          "traceback": [
            "\u001b[0;31m---------------------------------------------------------------------------\u001b[0m",
            "\u001b[0;31mNameError\u001b[0m                                 Traceback (most recent call last)",
            "\u001b[0;32m<ipython-input-1-060e9f4c401c>\u001b[0m in \u001b[0;36m<module>\u001b[0;34m()\u001b[0m\n\u001b[1;32m      1\u001b[0m \u001b[0;32mfrom\u001b[0m \u001b[0msklearn\u001b[0m\u001b[0;34m.\u001b[0m\u001b[0mensemble\u001b[0m \u001b[0;32mimport\u001b[0m \u001b[0mRandomForestClassifier\u001b[0m\u001b[0;34m\u001b[0m\u001b[0;34m\u001b[0m\u001b[0m\n\u001b[1;32m      2\u001b[0m \u001b[0mclassifier\u001b[0m \u001b[0;34m=\u001b[0m \u001b[0mRandomForestClassifier\u001b[0m\u001b[0;34m(\u001b[0m\u001b[0mn_estimators\u001b[0m \u001b[0;34m=\u001b[0m \u001b[0;36m100\u001b[0m\u001b[0;34m,\u001b[0m \u001b[0mcriterion\u001b[0m \u001b[0;34m=\u001b[0m \u001b[0;34m'entropy'\u001b[0m\u001b[0;34m)\u001b[0m\u001b[0;34m\u001b[0m\u001b[0;34m\u001b[0m\u001b[0m\n\u001b[0;32m----> 3\u001b[0;31m \u001b[0mclassifier\u001b[0m\u001b[0;34m.\u001b[0m\u001b[0mfit\u001b[0m\u001b[0;34m(\u001b[0m\u001b[0mX_train\u001b[0m\u001b[0;34m,\u001b[0m \u001b[0my_train\u001b[0m\u001b[0;34m)\u001b[0m\u001b[0;34m\u001b[0m\u001b[0;34m\u001b[0m\u001b[0m\n\u001b[0m",
            "\u001b[0;31mNameError\u001b[0m: name 'X_train' is not defined"
          ]
        }
      ]
    },
    {
      "cell_type": "code",
      "metadata": {
        "id": "PW_6OSDI5DgA"
      },
      "source": [
        "y_pred = classifier.predict(X_test)"
      ],
      "execution_count": null,
      "outputs": []
    },
    {
      "cell_type": "code",
      "metadata": {
        "colab": {
          "base_uri": "https://localhost:8080/"
        },
        "id": "EFE1aMSZH4j5",
        "outputId": "51d94322-2920-41f7-c5c8-5722646b3913"
      },
      "source": [
        "from sklearn.metrics import accuracy_score\n",
        "accuracy_score(y_test, y_pred)"
      ],
      "execution_count": null,
      "outputs": [
        {
          "output_type": "execute_result",
          "data": {
            "text/plain": [
              "0.7147197945055289"
            ]
          },
          "metadata": {
            "tags": []
          },
          "execution_count": 46
        }
      ]
    },
    {
      "cell_type": "code",
      "metadata": {
        "id": "NvDXXuq14-Nf"
      },
      "source": [
        "eog"
      ],
      "execution_count": null,
      "outputs": []
    }
  ]
}